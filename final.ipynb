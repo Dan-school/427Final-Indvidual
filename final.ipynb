{
 "cells": [
  {
   "cell_type": "code",
   "execution_count": 1,
   "metadata": {},
   "outputs": [],
   "source": [
    "from Bio import Entrez\n",
    "import xml.etree.ElementTree as ET\n",
    "from nltk.stem import PorterStemmer, WordNetLemmatizer\n",
    "from nltk.tokenize import RegexpTokenizer\n",
    "from nltk.corpus import stopwords\n",
    "import nltk\n",
    "from sklearn.model_selection import train_test_split\n",
    "from sklearn.feature_extraction.text import CountVectorizer, TfidfTransformer, TfidfVectorizer\n",
    "from sklearn.naive_bayes import MultinomialNB\n",
    "from sklearn.metrics import accuracy_score, precision_score, recall_score, f1_score, confusion_matrix\n",
    "import numpy as np\n",
    "from sklearn.pipeline import Pipeline\n",
    "from sklearn.linear_model import SGDClassifier, LogisticRegression\n",
    "import matplotlib.pyplot as plt"
   ]
  },
  {
   "cell_type": "code",
   "execution_count": 2,
   "metadata": {},
   "outputs": [
    {
     "name": "stderr",
     "output_type": "stream",
     "text": [
      "[nltk_data] Downloading package punkt to /home/dan/nltk_data...\n",
      "[nltk_data]   Package punkt is already up-to-date!\n",
      "[nltk_data] Downloading package stopwords to /home/dan/nltk_data...\n",
      "[nltk_data]   Package stopwords is already up-to-date!\n",
      "[nltk_data] Downloading package wordnet to /home/dan/nltk_data...\n",
      "[nltk_data]   Package wordnet is already up-to-date!\n"
     ]
    },
    {
     "data": {
      "text/plain": [
       "True"
      ]
     },
     "execution_count": 2,
     "metadata": {},
     "output_type": "execute_result"
    }
   ],
   "source": [
    "nltk.download('punkt')\n",
    "nltk.download('stopwords')\n",
    "nltk.download('wordnet')"
   ]
  },
  {
   "cell_type": "markdown",
   "metadata": {},
   "source": [
    "#  1) Data Access tier, 2) Text Pre-Processing tier, and 3) Machine Learning tier"
   ]
  },
  {
   "cell_type": "markdown",
   "metadata": {},
   "source": [
    "# 1 Data Access tier"
   ]
  },
  {
   "cell_type": "code",
   "execution_count": 3,
   "metadata": {},
   "outputs": [],
   "source": [
    "def getIdList(term):\n",
    "  #Get ID list\n",
    "  #http://biopython.org/DIST/docs/tutorial/Tutorial.html#sec162\n",
    "  Entrez.email = \"A.N.Other@example.com\"  # Always tell NCBI who you are\n",
    "  handle = Entrez.esearch(db=\"pubmed\", term=term, datetype=\"pdat\", mindate=\"2010\", retmax=\"1000000\")#yyyy/mm/dd #max retmax\n",
    "  record = Entrez.read(handle)\n",
    "  handle.close()\n",
    "  idlist = record[\"IdList\"]\n",
    "\n",
    "  return idlist"
   ]
  },
  {
   "cell_type": "code",
   "execution_count": 4,
   "metadata": {},
   "outputs": [],
   "source": [
    "terms = [\"knee osteoarthritis\", \"abnormalities, cardiovascular\", \"acute rheumatic arthritis\", \"disease, lyme\"]"
   ]
  },
  {
   "cell_type": "code",
   "execution_count": 5,
   "metadata": {},
   "outputs": [
    {
     "name": "stdout",
     "output_type": "stream",
     "text": [
      "knee osteoarthritis\n",
      "abnormalities, cardiovascular\n",
      "acute rheumatic arthritis\n",
      "disease, lyme\n"
     ]
    }
   ],
   "source": [
    "allDocs = list()\n",
    "for term in terms:\n",
    "  print(term)\n",
    "\n",
    "#load/download xml files for each term\n",
    "  try:\n",
    "    #try to load the file with elementtree\n",
    "    tree = ET.parse(term + \".xml\")\n",
    "  except FileNotFoundError:\n",
    "    #files arent here download them\n",
    "    ids = getIdList(term)\n",
    "    print(len(ids))\n",
    "    print(type(ids))\n",
    "    #download xml files from pubmed\n",
    "    with Entrez.efetch(db=\"pubmed\", id=ids, retmode=\"xml\") as handle:\n",
    "      with open(term + \".xml\", 'wb') as file:\n",
    "        file.write(handle.read())\n",
    "    tree = ET.parse(term + \".xml\")\n",
    "  # create empty list for all documents\n",
    "\n",
    "  #create a list of pairs with abstracts and class\n",
    "  root = tree.getroot()\n",
    "  abstract = list()\n",
    "  #some abstracts have multiple tags and are split, need to combine\n",
    "  for match in root.findall(\".//PubmedArticle\"):\n",
    "    abstract = []\n",
    "    for abst in match.findall(\".//AbstractText\"):\n",
    "        abstract.append(abst.text)\n",
    "    ab = \"\".join(abst for abst in abstract if abst is not None)\n",
    "    allDocs.append((ab, term))"
   ]
  },
  {
   "cell_type": "markdown",
   "metadata": {},
   "source": [
    "# 2) Text Pre-Processing tier"
   ]
  },
  {
   "cell_type": "code",
   "execution_count": 6,
   "metadata": {},
   "outputs": [],
   "source": [
    "#from HW 2  - tokenize, lemmatize, stem, remove stopwords\n",
    "def normalize(text):\n",
    "    #remove punctuation\n",
    "    punc = RegexpTokenizer(r'\\w+')\n",
    "    rmvPunc = punc.tokenize(text)\n",
    "    #remove stop words\n",
    "    stop_words = set(stopwords.words('english'))\n",
    "    removeStop = [w for w in rmvPunc if not w.lower() in stop_words]\n",
    "    #lowercase\n",
    "    lowerCase = [x.lower() for x in removeStop]\n",
    "    #stem\n",
    "    ps =PorterStemmer()\n",
    "    rootWord = [ps.stem(x) for x in lowerCase]\n",
    "    #lem\n",
    "    wl = WordNetLemmatizer()\n",
    "    lemWords = [wl.lemmatize(x) for x in rootWord]\n",
    "\n",
    "    return lemWords"
   ]
  },
  {
   "cell_type": "code",
   "execution_count": 7,
   "metadata": {},
   "outputs": [],
   "source": [
    "# format all the documents into a list\n",
    "allDocsNorm = [(normalize(doc), label) for doc, label in allDocs if doc != \"\"]\n",
    "#concatenate the first element of each pair to one string\n",
    "allDocsNorm = [(' '.join(doc), label) for doc, label in allDocsNorm]\n"
   ]
  },
  {
   "cell_type": "markdown",
   "metadata": {},
   "source": [
    "# 3) Machine Learning tier"
   ]
  },
  {
   "cell_type": "code",
   "execution_count": 17,
   "metadata": {},
   "outputs": [],
   "source": [
    "# get alldocsNorm ready for sklearn\n",
    "X = [doc for doc, label in allDocsNorm]\n",
    "y = [label for doc, label in allDocsNorm]\n",
    "\n",
    "# split into training and test sets\n",
    "X_train, X_test, y_train, y_test = train_test_split(X, y, test_size=0.20, random_state=42, shuffle=True)\n",
    "\n"
   ]
  },
  {
   "cell_type": "code",
   "execution_count": 18,
   "metadata": {},
   "outputs": [
    {
     "name": "stdout",
     "output_type": "stream",
     "text": [
      "Accuracy: 0.941326\n",
      "Precision: 0.941\n",
      "Recall: 0.941\n",
      "F1: 0.941\n"
     ]
    },
    {
     "data": {
      "image/png": "[encoded data removed]",
      "text/plain": [
       "<Figure size 360x360 with 1 Axes>"
      ]
     },
     "metadata": {
      "needs_background": "light"
     },
     "output_type": "display_data"
    }
   ],
   "source": [
    "# naive bayes\n",
    "pipe  = Pipeline([\n",
    "    ('vect', CountVectorizer()),\n",
    "    ('tfidf', TfidfTransformer()),\n",
    "    ('clf', MultinomialNB()),\n",
    "])\n",
    "\n",
    "pipe.fit(X_train, y_train)\n",
    "\n",
    "predicted = pipe.predict(X_test)\n",
    "\n",
    "print('Accuracy: %3f' % accuracy_score(y_test, predicted))\n",
    "print('Precision: %.3f' % precision_score(y_test, predicted, average='micro'))\n",
    "print('Recall: %.3f' % recall_score(y_test, predicted, average='micro'))\n",
    "print('F1: %.3f' % f1_score(y_test, predicted, average='micro'))\n",
    "\n",
    "conf_matrix = confusion_matrix(y_true=y_test, y_pred=predicted)\n",
    "\n",
    "# Print the confusion matrix using Matplotlib\n",
    "\n",
    "fig, ax = plt.subplots(figsize=(5, 5))\n",
    "ax.matshow(conf_matrix, cmap=plt.cm.Oranges, alpha=0.31)\n",
    "for i in range(conf_matrix.shape[0]):\n",
    "    for j in range(conf_matrix.shape[1]):\n",
    "        ax.text(x=j, y=i,s=conf_matrix[i, j], va='center', ha='center', size='xx-large')\n",
    " \n",
    "plt.xlabel('Predictions', fontsize=18)\n",
    "plt.ylabel('Actuals', fontsize=18)\n",
    "plt.title('Confusion Matrix', fontsize=18)\n",
    "plt.show()"
   ]
  },
  {
   "cell_type": "code",
   "execution_count": 14,
   "metadata": {},
   "outputs": [
    {
     "name": "stdout",
     "output_type": "stream",
     "text": [
      "Accuracy: 0.972310\n",
      "Precision: 0.972\n",
      "Recall: 0.972\n",
      "F1: 0.972\n"
     ]
    },
    {
     "data": {
      "image/png": "[encoded data removed]",
      "text/plain": [
       "<Figure size 360x360 with 1 Axes>"
      ]
     },
     "metadata": {
      "needs_background": "light"
     },
     "output_type": "display_data"
    }
   ],
   "source": [
    "#svm\n",
    "\n",
    "pipe = Pipeline([\n",
    "    ('vect', TfidfVectorizer(max_df=0.9)),\n",
    "    ('clf', SGDClassifier(loss='hinge', penalty='l1',\n",
    "                          alpha=1e-5, random_state=42,\n",
    "                          max_iter=10, tol=None)),\n",
    "])\n",
    "\n",
    "pipe.fit(X_train, y_train) #Train model\n",
    "# \n",
    "predicted = pipe.predict(X_test) #Run model\n",
    "\n",
    "#Evaluate model\n",
    "print('Accuracy: %3f' % accuracy_score(y_test, predicted))\n",
    "print('Precision: %.3f' % precision_score(y_test, predicted, average='micro'))\n",
    "print('Recall: %.3f' % recall_score(y_test, predicted, average='micro'))\n",
    "print('F1: %.3f' % f1_score(y_test, predicted, average='micro'))\n",
    "\n",
    "conf_matrix = confusion_matrix(y_true=y_test, y_pred=predicted)\n",
    "\n",
    "# Print the confusion matrix using Matplotlib\n",
    "\n",
    "fig, ax = plt.subplots(figsize=(5, 5))\n",
    "ax.matshow(conf_matrix, cmap=plt.cm.Oranges, alpha=0.31)\n",
    "for i in range(conf_matrix.shape[0]):\n",
    "    for j in range(conf_matrix.shape[1]):\n",
    "        ax.text(x=j, y=i,s=conf_matrix[i, j], va='center', ha='center', size='xx-large')\n",
    " \n",
    "plt.xlabel('Predictions', fontsize=18)\n",
    "plt.ylabel('Actuals', fontsize=18)\n",
    "plt.title('Confusion Matrix', fontsize=18)\n",
    "plt.show()"
   ]
  },
  {
   "cell_type": "code",
   "execution_count": 28,
   "metadata": {},
   "outputs": [
    {
     "name": "stderr",
     "output_type": "stream",
     "text": [
      "/home/dan/.local/lib/python3.8/site-packages/sklearn/linear_model/_logistic.py:814: ConvergenceWarning: lbfgs failed to converge (status=1):\n",
      "STOP: TOTAL NO. of ITERATIONS REACHED LIMIT.\n",
      "\n",
      "Increase the number of iterations (max_iter) or scale the data as shown in:\n",
      "    https://scikit-learn.org/stable/modules/preprocessing.html\n",
      "Please also refer to the documentation for alternative solver options:\n",
      "    https://scikit-learn.org/stable/modules/linear_model.html#logistic-regression\n",
      "  n_iter_i = _check_optimize_result(\n"
     ]
    },
    {
     "name": "stdout",
     "output_type": "stream",
     "text": [
      "Accuracy: 0.951654\n",
      "Precision: 0.952\n",
      "Recall: 0.952\n",
      "F1: 0.952\n"
     ]
    },
    {
     "data": {
      "image/png": "[encoded data removed]",
      "text/plain": [
       "<Figure size 360x360 with 1 Axes>"
      ]
     },
     "metadata": {
      "needs_background": "light"
     },
     "output_type": "display_data"
    }
   ],
   "source": [
    "#logistic regression\n",
    "\n",
    "pipe = Pipeline([   #Pipeline for logistic regression\n",
    "    ('vect', TfidfVectorizer(max_df=0.8,)),\n",
    "    ('clf', LogisticRegression(penalty='l2', C=3, random_state=42,\n",
    "                                 max_iter=10)),\n",
    "])\n",
    "\n",
    "pipe.fit(X_train, y_train) #Train model\n",
    "\n",
    "predicted = pipe.predict(X_test)\n",
    "\n",
    "#Evaluate model\n",
    "print('Accuracy: %3f' % accuracy_score(y_test, predicted))\n",
    "print('Precision: %.3f' % precision_score(y_test, predicted, average='micro'))\n",
    "print('Recall: %.3f' % recall_score(y_test, predicted, average='micro'))\n",
    "print('F1: %.3f' % f1_score(y_test, predicted, average='micro'))\n",
    "\n",
    "\n",
    "\n",
    "\n",
    "conf_matrix = confusion_matrix(y_true=y_test, y_pred=predicted)\n",
    "\n",
    "# Print the confusion matrix using Matplotlib\n",
    "\n",
    "fig, ax = plt.subplots(figsize=(5, 5))\n",
    "ax.matshow(conf_matrix, cmap=plt.cm.Oranges, alpha=0.31)\n",
    "for i in range(conf_matrix.shape[0]):\n",
    "    for j in range(conf_matrix.shape[1]):\n",
    "        ax.text(x=j, y=i,s=conf_matrix[i, j], va='center', ha='center', size='xx-large')\n",
    " \n",
    "plt.xlabel('Predictions', fontsize=18)\n",
    "plt.ylabel('Actuals', fontsize=18)\n",
    "plt.title('Confusion Matrix', fontsize=18)\n",
    "plt.show()"
   ]
  },
  {
   "cell_type": "code",
   "execution_count": null,
   "metadata": {},
   "outputs": [],
   "source": []
  }
 ],
 "metadata": {
  "interpreter": {
   "hash": "916dbcbb3f70747c44a77c7bcd40155683ae19c65e1c03b4aa3499c5328201f1"
  },
  "kernelspec": {
   "display_name": "Python 3.8.10 64-bit",
   "language": "python",
   "name": "python3"
  },
  "language_info": {
   "codemirror_mode": {
    "name": "ipython",
    "version": 3
   },
   "file_extension": ".py",
   "mimetype": "text/x-python",
   "name": "python",
   "nbconvert_exporter": "python",
   "pygments_lexer": "ipython3",
   "version": "3.8.10"
  },
  "orig_nbformat": 4
 },
 "nbformat": 4,
 "nbformat_minor": 2
}
